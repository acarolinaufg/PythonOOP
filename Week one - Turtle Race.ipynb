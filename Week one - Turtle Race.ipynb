{
 "cells": [
  {
   "cell_type": "code",
   "execution_count": 2,
   "metadata": {},
   "outputs": [],
   "source": [
    "from turtle import Turtle\n",
    "from random import randint"
   ]
  },
  {
   "cell_type": "code",
   "execution_count": 3,
   "metadata": {},
   "outputs": [],
   "source": [
    "laura = Turtle()\n",
    "laura.color('red')\n",
    "laura.shape('turtle')\n",
    "laura.penup()\n",
    "laura.goto(-160,100)\n",
    "laura.pendown()"
   ]
  },
  {
   "cell_type": "code",
   "execution_count": 4,
   "metadata": {},
   "outputs": [],
   "source": [
    "ana = Turtle()\n",
    "ana.color('pink')\n",
    "ana.shape('turtle')\n",
    "ana.penup()\n",
    "ana.goto(-160,70)\n",
    "ana.pendown()"
   ]
  },
  {
   "cell_type": "code",
   "execution_count": 5,
   "metadata": {},
   "outputs": [],
   "source": [
    "elo = Turtle()\n",
    "elo.color('green')\n",
    "elo.shape('turtle')\n",
    "elo.penup()\n",
    "elo.goto(-160,40)\n",
    "elo.pendown()"
   ]
  },
  {
   "cell_type": "code",
   "execution_count": 6,
   "metadata": {},
   "outputs": [],
   "source": [
    "dimi = Turtle()\n",
    "dimi.color('black')\n",
    "dimi.shape('turtle')\n",
    "dimi.penup()\n",
    "dimi.goto(-160,10)\n",
    "dimi.pendown()"
   ]
  },
  {
   "cell_type": "code",
   "execution_count": 7,
   "metadata": {},
   "outputs": [],
   "source": [
    "for movement in range(100):\n",
    "    laura.forward(randint(1,5))\n",
    "    ana.forward(randint(1,5))\n",
    "    elo.forward(randint(1,5))\n",
    "    dimi.forward(randint(1,5))"
   ]
  },
  {
   "cell_type": "code",
   "execution_count": null,
   "metadata": {},
   "outputs": [],
   "source": []
  },
  {
   "cell_type": "code",
   "execution_count": null,
   "metadata": {},
   "outputs": [],
   "source": []
  },
  {
   "cell_type": "code",
   "execution_count": null,
   "metadata": {},
   "outputs": [],
   "source": []
  }
 ],
 "metadata": {
  "kernelspec": {
   "display_name": "Python 3",
   "language": "python",
   "name": "python3"
  },
  "language_info": {
   "codemirror_mode": {
    "name": "ipython",
    "version": 3
   },
   "file_extension": ".py",
   "mimetype": "text/x-python",
   "name": "python",
   "nbconvert_exporter": "python",
   "pygments_lexer": "ipython3",
   "version": "3.6.9"
  }
 },
 "nbformat": 4,
 "nbformat_minor": 4
}
